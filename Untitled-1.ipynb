{
    "cells": [
        {
            "cell_type": "code",
            "execution_count": 3,
            "source": [
                "!pip install tensorflow\n",
                "!pip install opencv-python\n",
                "!pip install matplotlib"
            ],
            "outputs": [
                {
                    "output_type": "stream",
                    "name": "stdout",
                    "text": [
                        "Requirement already satisfied: tensorflow in /workspaces/ImageProcessing/.venv/lib/python3.8/site-packages (2.5.0)\n",
                        "Requirement already satisfied: opt-einsum~=3.3.0 in /workspaces/ImageProcessing/.venv/lib/python3.8/site-packages (from tensorflow) (3.3.0)\n",
                        "Requirement already satisfied: wheel~=0.35 in /workspaces/ImageProcessing/.venv/lib/python3.8/site-packages (from tensorflow) (0.36.2)\n",
                        "Requirement already satisfied: flatbuffers~=1.12.0 in /workspaces/ImageProcessing/.venv/lib/python3.8/site-packages (from tensorflow) (1.12)\n",
                        "Requirement already satisfied: termcolor~=1.1.0 in /workspaces/ImageProcessing/.venv/lib/python3.8/site-packages (from tensorflow) (1.1.0)\n",
                        "Requirement already satisfied: protobuf>=3.9.2 in /workspaces/ImageProcessing/.venv/lib/python3.8/site-packages (from tensorflow) (3.17.3)\n",
                        "Requirement already satisfied: tensorboard~=2.5 in /workspaces/ImageProcessing/.venv/lib/python3.8/site-packages (from tensorflow) (2.5.0)\n",
                        "Requirement already satisfied: h5py~=3.1.0 in /workspaces/ImageProcessing/.venv/lib/python3.8/site-packages (from tensorflow) (3.1.0)\n",
                        "Requirement already satisfied: wrapt~=1.12.1 in /workspaces/ImageProcessing/.venv/lib/python3.8/site-packages (from tensorflow) (1.12.1)\n",
                        "Requirement already satisfied: gast==0.4.0 in /workspaces/ImageProcessing/.venv/lib/python3.8/site-packages (from tensorflow) (0.4.0)\n",
                        "Requirement already satisfied: keras-nightly~=2.5.0.dev in /workspaces/ImageProcessing/.venv/lib/python3.8/site-packages (from tensorflow) (2.5.0.dev2021032900)\n",
                        "Requirement already satisfied: astunparse~=1.6.3 in /workspaces/ImageProcessing/.venv/lib/python3.8/site-packages (from tensorflow) (1.6.3)\n",
                        "Requirement already satisfied: keras-preprocessing~=1.1.2 in /workspaces/ImageProcessing/.venv/lib/python3.8/site-packages (from tensorflow) (1.1.2)\n",
                        "Requirement already satisfied: tensorflow-estimator<2.6.0,>=2.5.0rc0 in /workspaces/ImageProcessing/.venv/lib/python3.8/site-packages (from tensorflow) (2.5.0)\n",
                        "Requirement already satisfied: google-pasta~=0.2 in /workspaces/ImageProcessing/.venv/lib/python3.8/site-packages (from tensorflow) (0.2.0)\n",
                        "Requirement already satisfied: numpy~=1.19.2 in /workspaces/ImageProcessing/.venv/lib/python3.8/site-packages (from tensorflow) (1.19.5)\n",
                        "Requirement already satisfied: six~=1.15.0 in /workspaces/ImageProcessing/.venv/lib/python3.8/site-packages (from tensorflow) (1.15.0)\n",
                        "Requirement already satisfied: typing-extensions~=3.7.4 in /workspaces/ImageProcessing/.venv/lib/python3.8/site-packages (from tensorflow) (3.7.4.3)\n",
                        "Requirement already satisfied: grpcio~=1.34.0 in /workspaces/ImageProcessing/.venv/lib/python3.8/site-packages (from tensorflow) (1.34.1)\n",
                        "Requirement already satisfied: absl-py~=0.10 in /workspaces/ImageProcessing/.venv/lib/python3.8/site-packages (from tensorflow) (0.13.0)\n",
                        "Requirement already satisfied: setuptools>=41.0.0 in /workspaces/ImageProcessing/.venv/lib/python3.8/site-packages (from tensorboard~=2.5->tensorflow) (49.2.1)\n",
                        "Requirement already satisfied: tensorboard-plugin-wit>=1.6.0 in /workspaces/ImageProcessing/.venv/lib/python3.8/site-packages (from tensorboard~=2.5->tensorflow) (1.8.0)\n",
                        "Requirement already satisfied: google-auth-oauthlib<0.5,>=0.4.1 in /workspaces/ImageProcessing/.venv/lib/python3.8/site-packages (from tensorboard~=2.5->tensorflow) (0.4.5)\n",
                        "Requirement already satisfied: markdown>=2.6.8 in /workspaces/ImageProcessing/.venv/lib/python3.8/site-packages (from tensorboard~=2.5->tensorflow) (3.3.4)\n",
                        "Requirement already satisfied: werkzeug>=0.11.15 in /workspaces/ImageProcessing/.venv/lib/python3.8/site-packages (from tensorboard~=2.5->tensorflow) (2.0.1)\n",
                        "Requirement already satisfied: requests<3,>=2.21.0 in /workspaces/ImageProcessing/.venv/lib/python3.8/site-packages (from tensorboard~=2.5->tensorflow) (2.26.0)\n",
                        "Requirement already satisfied: tensorboard-data-server<0.7.0,>=0.6.0 in /workspaces/ImageProcessing/.venv/lib/python3.8/site-packages (from tensorboard~=2.5->tensorflow) (0.6.1)\n",
                        "Requirement already satisfied: google-auth<2,>=1.6.3 in /workspaces/ImageProcessing/.venv/lib/python3.8/site-packages (from tensorboard~=2.5->tensorflow) (1.34.0)\n",
                        "Requirement already satisfied: requests-oauthlib>=0.7.0 in /workspaces/ImageProcessing/.venv/lib/python3.8/site-packages (from google-auth-oauthlib<0.5,>=0.4.1->tensorboard~=2.5->tensorflow) (1.3.0)\n",
                        "Requirement already satisfied: urllib3<1.27,>=1.21.1 in /workspaces/ImageProcessing/.venv/lib/python3.8/site-packages (from requests<3,>=2.21.0->tensorboard~=2.5->tensorflow) (1.26.6)\n",
                        "Requirement already satisfied: certifi>=2017.4.17 in /workspaces/ImageProcessing/.venv/lib/python3.8/site-packages (from requests<3,>=2.21.0->tensorboard~=2.5->tensorflow) (2021.5.30)\n",
                        "Requirement already satisfied: idna<4,>=2.5; python_version >= \"3\" in /workspaces/ImageProcessing/.venv/lib/python3.8/site-packages (from requests<3,>=2.21.0->tensorboard~=2.5->tensorflow) (3.2)\n",
                        "Requirement already satisfied: charset-normalizer~=2.0.0; python_version >= \"3\" in /workspaces/ImageProcessing/.venv/lib/python3.8/site-packages (from requests<3,>=2.21.0->tensorboard~=2.5->tensorflow) (2.0.4)\n",
                        "Requirement already satisfied: rsa<5,>=3.1.4; python_version >= \"3.6\" in /workspaces/ImageProcessing/.venv/lib/python3.8/site-packages (from google-auth<2,>=1.6.3->tensorboard~=2.5->tensorflow) (4.7.2)\n",
                        "Requirement already satisfied: pyasn1-modules>=0.2.1 in /workspaces/ImageProcessing/.venv/lib/python3.8/site-packages (from google-auth<2,>=1.6.3->tensorboard~=2.5->tensorflow) (0.2.8)\n",
                        "Requirement already satisfied: cachetools<5.0,>=2.0.0 in /workspaces/ImageProcessing/.venv/lib/python3.8/site-packages (from google-auth<2,>=1.6.3->tensorboard~=2.5->tensorflow) (4.2.2)\n",
                        "Requirement already satisfied: oauthlib>=3.0.0 in /workspaces/ImageProcessing/.venv/lib/python3.8/site-packages (from requests-oauthlib>=0.7.0->google-auth-oauthlib<0.5,>=0.4.1->tensorboard~=2.5->tensorflow) (3.1.1)\n",
                        "Requirement already satisfied: pyasn1>=0.1.3 in /workspaces/ImageProcessing/.venv/lib/python3.8/site-packages (from rsa<5,>=3.1.4; python_version >= \"3.6\"->google-auth<2,>=1.6.3->tensorboard~=2.5->tensorflow) (0.4.8)\n",
                        "\u001b[33mWARNING: You are using pip version 20.2.1; however, version 21.2.2 is available.\n",
                        "You should consider upgrading via the '/workspaces/ImageProcessing/.venv/bin/python3.8 -m pip install --upgrade pip' command.\u001b[0m\n",
                        "Requirement already satisfied: opencv-python in /workspaces/ImageProcessing/.venv/lib/python3.8/site-packages (4.5.3.56)\n",
                        "Requirement already satisfied: numpy>=1.17.3 in /workspaces/ImageProcessing/.venv/lib/python3.8/site-packages (from opencv-python) (1.19.5)\n",
                        "\u001b[33mWARNING: You are using pip version 20.2.1; however, version 21.2.2 is available.\n",
                        "You should consider upgrading via the '/workspaces/ImageProcessing/.venv/bin/python3.8 -m pip install --upgrade pip' command.\u001b[0m\n",
                        "Collecting matplotlib\n",
                        "  Downloading matplotlib-3.4.2-cp38-cp38-manylinux1_x86_64.whl (10.3 MB)\n",
                        "\u001b[K     |████████████████████████████████| 10.3 MB 7.5 MB/s \n",
                        "\u001b[?25hCollecting pyparsing>=2.2.1\n",
                        "  Downloading pyparsing-2.4.7-py2.py3-none-any.whl (67 kB)\n",
                        "\u001b[K     |████████████████████████████████| 67 kB 2.8 MB/s \n",
                        "\u001b[?25hRequirement already satisfied: python-dateutil>=2.7 in /workspaces/ImageProcessing/.venv/lib/python3.8/site-packages (from matplotlib) (2.8.2)\n",
                        "Requirement already satisfied: numpy>=1.16 in /workspaces/ImageProcessing/.venv/lib/python3.8/site-packages (from matplotlib) (1.19.5)\n",
                        "Collecting pillow>=6.2.0\n",
                        "  Downloading Pillow-8.3.1-cp38-cp38-manylinux_2_5_x86_64.manylinux1_x86_64.whl (3.0 MB)\n",
                        "\u001b[K     |████████████████████████████████| 3.0 MB 72.0 MB/s \n",
                        "\u001b[?25hCollecting cycler>=0.10\n",
                        "  Downloading cycler-0.10.0-py2.py3-none-any.whl (6.5 kB)\n",
                        "Collecting kiwisolver>=1.0.1\n",
                        "  Downloading kiwisolver-1.3.1-cp38-cp38-manylinux1_x86_64.whl (1.2 MB)\n",
                        "\u001b[K     |████████████████████████████████| 1.2 MB 79.0 MB/s \n",
                        "\u001b[?25hRequirement already satisfied: six>=1.5 in /workspaces/ImageProcessing/.venv/lib/python3.8/site-packages (from python-dateutil>=2.7->matplotlib) (1.15.0)\n",
                        "Installing collected packages: pyparsing, pillow, cycler, kiwisolver, matplotlib\n",
                        "Successfully installed cycler-0.10.0 kiwisolver-1.3.1 matplotlib-3.4.2 pillow-8.3.1 pyparsing-2.4.7\n",
                        "\u001b[33mWARNING: You are using pip version 20.2.1; however, version 21.2.2 is available.\n",
                        "You should consider upgrading via the '/workspaces/ImageProcessing/.venv/bin/python3.8 -m pip install --upgrade pip' command.\u001b[0m\n"
                    ]
                }
            ],
            "metadata": {}
        },
        {
            "cell_type": "code",
            "execution_count": 4,
            "source": [
                "import tensorflow as tf\n",
                "import numpy as np\n",
                "import cv2\n",
                "import matplotlib.pyplot as plt\n"
            ],
            "outputs": [
                {
                    "output_type": "error",
                    "ename": "ImportError",
                    "evalue": "libGL.so.1: cannot open shared object file: No such file or directory",
                    "traceback": [
                        "\u001b[0;31m---------------------------------------------------------------------------\u001b[0m",
                        "\u001b[0;31mImportError\u001b[0m                               Traceback (most recent call last)",
                        "\u001b[0;32m/tmp/ipykernel_4635/1567370191.py\u001b[0m in \u001b[0;36m<module>\u001b[0;34m\u001b[0m\n\u001b[1;32m      1\u001b[0m \u001b[0;32mimport\u001b[0m \u001b[0mtensorflow\u001b[0m \u001b[0;32mas\u001b[0m \u001b[0mtf\u001b[0m\u001b[0;34m\u001b[0m\u001b[0;34m\u001b[0m\u001b[0m\n\u001b[1;32m      2\u001b[0m \u001b[0;32mimport\u001b[0m \u001b[0mnumpy\u001b[0m \u001b[0;32mas\u001b[0m \u001b[0mnp\u001b[0m\u001b[0;34m\u001b[0m\u001b[0;34m\u001b[0m\u001b[0m\n\u001b[0;32m----> 3\u001b[0;31m \u001b[0;32mimport\u001b[0m \u001b[0mcv2\u001b[0m\u001b[0;34m\u001b[0m\u001b[0;34m\u001b[0m\u001b[0m\n\u001b[0m\u001b[1;32m      4\u001b[0m \u001b[0;32mimport\u001b[0m \u001b[0mmatplotlib\u001b[0m\u001b[0;34m.\u001b[0m\u001b[0mpyplot\u001b[0m \u001b[0;32mas\u001b[0m \u001b[0mplt\u001b[0m\u001b[0;34m\u001b[0m\u001b[0;34m\u001b[0m\u001b[0m\n",
                        "\u001b[0;32m/workspaces/ImageProcessing/.venv/lib/python3.8/site-packages/cv2/__init__.py\u001b[0m in \u001b[0;36m<module>\u001b[0;34m\u001b[0m\n\u001b[1;32m      3\u001b[0m \u001b[0;32mimport\u001b[0m \u001b[0msys\u001b[0m\u001b[0;34m\u001b[0m\u001b[0;34m\u001b[0m\u001b[0m\n\u001b[1;32m      4\u001b[0m \u001b[0;34m\u001b[0m\u001b[0m\n\u001b[0;32m----> 5\u001b[0;31m \u001b[0;32mfrom\u001b[0m \u001b[0;34m.\u001b[0m\u001b[0mcv2\u001b[0m \u001b[0;32mimport\u001b[0m \u001b[0;34m*\u001b[0m\u001b[0;34m\u001b[0m\u001b[0;34m\u001b[0m\u001b[0m\n\u001b[0m\u001b[1;32m      6\u001b[0m \u001b[0;32mfrom\u001b[0m \u001b[0;34m.\u001b[0m\u001b[0mdata\u001b[0m \u001b[0;32mimport\u001b[0m \u001b[0;34m*\u001b[0m\u001b[0;34m\u001b[0m\u001b[0;34m\u001b[0m\u001b[0m\n\u001b[1;32m      7\u001b[0m \u001b[0;34m\u001b[0m\u001b[0m\n",
                        "\u001b[0;31mImportError\u001b[0m: libGL.so.1: cannot open shared object file: No such file or directory"
                    ]
                }
            ],
            "metadata": {}
        }
    ],
    "metadata": {
        "orig_nbformat": 4,
        "language_info": {
            "name": "python",
            "version": "3.8.6",
            "mimetype": "text/x-python",
            "codemirror_mode": {
                "name": "ipython",
                "version": 3
            },
            "pygments_lexer": "ipython3",
            "nbconvert_exporter": "python",
            "file_extension": ".py"
        },
        "kernelspec": {
            "name": "python3",
            "display_name": "Python 3.8.6 64-bit ('.venv': venv)"
        },
        "interpreter": {
            "hash": "36daceac9c0394c925a9f6834d267ef0be6c64ff8773c259e5ca9dcb804c4cbd"
        }
    },
    "nbformat": 4,
    "nbformat_minor": 2
}